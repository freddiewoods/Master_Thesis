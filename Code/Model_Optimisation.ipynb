{
 "cells": [
  {
   "cell_type": "code",
   "execution_count": 11,
   "metadata": {},
   "outputs": [],
   "source": [
    "import os\n",
    "os.chdir(\"../Functionality/\")\n",
    "from implicit.nearest_neighbours import bm25_weight\n",
    "from implicit.als import AlternatingLeastSquares\n",
    "from scipy.sparse import csr_matrix\n",
    "import pandas as pd\n",
    "import spotipy\n",
    "import sys\n",
    "from spotipy.oauth2 import SpotifyClientCredentials\n",
    "\n",
    "import numpy as np\n",
    "from ipynb.fs.full.Model import *\n",
    "from ipynb.fs.full.Spotify_Functions import *\n",
    "from ipynb.fs.full.Load_Starting_Files import *\n",
    "import warnings\n",
    "warnings.filterwarnings('ignore')"
   ]
  },
  {
   "cell_type": "code",
   "execution_count": 12,
   "metadata": {},
   "outputs": [],
   "source": [
    "client_id = 'e42bc8c7773341c98c22d1099ec06d9b'\n",
    "client_secret = 'a1441373650e44979c617106a84352e3'\n",
    "\n",
    "spotify = spotipy.Spotify(auth_manager=SpotifyClientCredentials(client_id=client_id,\n",
    "                                                                client_secret=client_secret))"
   ]
  },
  {
   "cell_type": "markdown",
   "metadata": {},
   "source": [
    "# Test Echo Chamber Performance UK"
   ]
  },
  {
   "cell_type": "code",
   "execution_count": 13,
   "metadata": {},
   "outputs": [],
   "source": [
    "def get_predictions(data, userid, user_history, unique_tracks, model, user_plays):\n",
    "    \n",
    "    track_ids, scores = model.recommend(userid, user_plays[userid], N=10, filter_already_liked_items=False)\n",
    "\n",
    "    prediction_data = unique_tracks[unique_tracks['trackID'].isin(track_ids)]\n",
    "    \n",
    "    prediction_data['confidence'] = scores\n",
    "    \n",
    "    prediction_data['track_liked'] = prediction_data['recordingMBID'].isin(user_history['recordingMBID'])\n",
    "      \n",
    "    prediction_data['artist_liked'] = prediction_data['artist-MBID'].isin(user_history['artist-MBID'])\n",
    " \n",
    "    return(prediction_data)"
   ]
  },
  {
   "cell_type": "code",
   "execution_count": 14,
   "metadata": {},
   "outputs": [],
   "source": [
    "def get_similar_artist(prediction, user_history):\n",
    "    results = []\n",
    "    artists = prediction[prediction['artist_liked'] == False]['artistName']\n",
    "    if len(artists) > 0:\n",
    "        for name in artists:\n",
    "            artist_id = lookup_artist(spotify, str(name))\n",
    "            if artist_id != None:\n",
    "                similar_artists = get_related_artist(spotify, artist_id)\n",
    "                results.append(any(item in user_history['artistName'].values for item in similar_artists))\n",
    "    \n",
    "\n",
    "    return(results)"
   ]
  },
  {
   "cell_type": "code",
   "execution_count": 15,
   "metadata": {},
   "outputs": [],
   "source": [
    "def test_model(data, model, user_plays, sample_ids, unique_tracks):\n",
    "\n",
    "    \n",
    "    results = []\n",
    "    for userid in sample_ids:\n",
    "        \n",
    "        user_history = data[data['userID'] == userid]\n",
    "        \n",
    "        user_prediction = get_predictions(data, userid, user_history, unique_tracks, model, user_plays)\n",
    "        \n",
    "        results.append((user_prediction[\"track_liked\"].sum(), user_prediction[\"artist_liked\"].sum(), get_similar_artist(user_prediction, user_history)))\n",
    "\n",
    "        \n",
    "        \n",
    "    return(results)\n",
    "\n",
    "        \n",
    "        \n",
    "        "
   ]
  },
  {
   "cell_type": "markdown",
   "metadata": {},
   "source": [
    "# Test ALS factors"
   ]
  },
  {
   "cell_type": "markdown",
   "metadata": {},
   "source": [
    "# Test Change in Alpha"
   ]
  },
  {
   "cell_type": "code",
   "execution_count": 16,
   "metadata": {},
   "outputs": [],
   "source": [
    "def test_alpha(data, unique_tracks, sample_ids):\n",
    "    results = []\n",
    "    test_alpha_table = [1.0,2.0,3.0,5.0,10.0]\n",
    "    for test in test_alpha_table:\n",
    "        model, user_plays = create_model(data[['userID','trackID','count']], alpha = test)\n",
    "        results.append(test_model(data, model, user_plays, sample_ids, unique_tracks))\n",
    "    return(results)"
   ]
  },
  {
   "cell_type": "code",
   "execution_count": 17,
   "metadata": {},
   "outputs": [],
   "source": [
    "def perform_test(data, test):\n",
    "    unique_tracks = data.drop_duplicates(subset = [\"trackID\"])\n",
    "    unique_tracks = unique_tracks[['trackID','recordingMBID', 'trackName', 'artist-MBID', 'artistName']]\n",
    "    sample_ids = np.random.choice(data['userID'], 100)\n",
    "    results = test(data, unique_tracks, sample_ids) \n",
    "    return(results)"
   ]
  },
  {
   "cell_type": "code",
   "execution_count": 27,
   "metadata": {},
   "outputs": [
    {
     "data": {
      "application/vnd.jupyter.widget-view+json": {
       "model_id": "8a021ea24e8140d8906816e758c594ea",
       "version_major": 2,
       "version_minor": 0
      },
      "text/plain": [
       "HBox(children=(FloatProgress(value=0.0, max=15.0), HTML(value='')))"
      ]
     },
     "metadata": {},
     "output_type": "display_data"
    },
    {
     "name": "stdout",
     "output_type": "stream",
     "text": [
      "\n"
     ]
    },
    {
     "data": {
      "application/vnd.jupyter.widget-view+json": {
       "model_id": "7258936736524707b59f1b99f9531618",
       "version_major": 2,
       "version_minor": 0
      },
      "text/plain": [
       "HBox(children=(FloatProgress(value=0.0, max=15.0), HTML(value='')))"
      ]
     },
     "metadata": {},
     "output_type": "display_data"
    },
    {
     "name": "stdout",
     "output_type": "stream",
     "text": [
      "\n"
     ]
    },
    {
     "data": {
      "application/vnd.jupyter.widget-view+json": {
       "model_id": "3ba4c25829b747f1b4f69f9d08a0a552",
       "version_major": 2,
       "version_minor": 0
      },
      "text/plain": [
       "HBox(children=(FloatProgress(value=0.0, max=15.0), HTML(value='')))"
      ]
     },
     "metadata": {},
     "output_type": "display_data"
    },
    {
     "name": "stdout",
     "output_type": "stream",
     "text": [
      "\n"
     ]
    },
    {
     "data": {
      "application/vnd.jupyter.widget-view+json": {
       "model_id": "0e4f3d9d7d8f4722bb45af315aa53627",
       "version_major": 2,
       "version_minor": 0
      },
      "text/plain": [
       "HBox(children=(FloatProgress(value=0.0, max=15.0), HTML(value='')))"
      ]
     },
     "metadata": {},
     "output_type": "display_data"
    },
    {
     "name": "stdout",
     "output_type": "stream",
     "text": [
      "\n"
     ]
    },
    {
     "data": {
      "application/vnd.jupyter.widget-view+json": {
       "model_id": "9396d9ff3f8e4571bf5d10b03393b7c5",
       "version_major": 2,
       "version_minor": 0
      },
      "text/plain": [
       "HBox(children=(FloatProgress(value=0.0, max=15.0), HTML(value='')))"
      ]
     },
     "metadata": {},
     "output_type": "display_data"
    },
    {
     "name": "stdout",
     "output_type": "stream",
     "text": [
      "\n"
     ]
    }
   ],
   "source": [
    "#uk_data = pd.read_pickle('../../cleaned_data/uk_data.pkl')\n",
    "#uk_results = perform_test(uk_data, test_alpha)\n",
    "us_data = pd.read_pickle('../../cleaned_data/us_data.pkl')\n",
    "us_results = perform_test(us_data, test_alpha)\n",
    "#pl_data = pd.read_pickle('../../cleaned_data/pl_data.pkl')\n",
    "#pl_results = perform_test(pl_data, test_alpha)\n"
   ]
  },
  {
   "cell_type": "code",
   "execution_count": null,
   "metadata": {},
   "outputs": [],
   "source": []
  },
  {
   "cell_type": "code",
   "execution_count": 23,
   "metadata": {},
   "outputs": [],
   "source": [
    "def mean_results(results):\n",
    "    full_results = []\n",
    "    for result_set in results:\n",
    "        average_already_liked, average_artist_liked, similar_artists = [],[],[]\n",
    "        for result in result_set:\n",
    "            (already_liked, artist_liked, similar_artist) = result\n",
    "            average_already_liked.append(already_liked)\n",
    "            average_artist_liked.append(artist_liked)\n",
    "            similar_artists.append(sum(similar_artist)+artist_liked)\n",
    "        full_results.append([np.mean(average_already_liked), np.mean(average_artist_liked), np.mean(similar_artists)])\n",
    "    return(full_results)"
   ]
  },
  {
   "cell_type": "code",
   "execution_count": 28,
   "metadata": {},
   "outputs": [],
   "source": [
    "#uk_full_results = mean_results(uk_results)\n",
    "us_full_results = mean_results(us_results)\n",
    "#pl_full_results = mean_results(pl_results)"
   ]
  },
  {
   "cell_type": "code",
   "execution_count": 21,
   "metadata": {},
   "outputs": [
    {
     "data": {
      "text/plain": [
       "[[1.34, 3.86, 6.82],\n",
       " [1.34, 3.87, 6.83],\n",
       " [1.34, 3.86, 6.82],\n",
       " [1.34, 3.86, 6.82],\n",
       " [1.34, 3.85, 6.82]]"
      ]
     },
     "execution_count": 21,
     "metadata": {},
     "output_type": "execute_result"
    }
   ],
   "source": [
    "uk_full_results"
   ]
  },
  {
   "cell_type": "code",
   "execution_count": 29,
   "metadata": {},
   "outputs": [
    {
     "data": {
      "text/plain": [
       "[[1.81, 4.25, 7.45],\n",
       " [1.81, 4.25, 7.44],\n",
       " [1.82, 4.26, 7.44],\n",
       " [1.81, 4.25, 7.45],\n",
       " [1.81, 4.25, 7.45]]"
      ]
     },
     "execution_count": 29,
     "metadata": {},
     "output_type": "execute_result"
    }
   ],
   "source": [
    "us_full_results"
   ]
  },
  {
   "cell_type": "code",
   "execution_count": 25,
   "metadata": {},
   "outputs": [
    {
     "data": {
      "text/plain": [
       "[[1.18, 3.72, 6.19],\n",
       " [1.18, 3.72, 6.19],\n",
       " [1.18, 3.72, 6.19],\n",
       " [1.18, 3.71, 6.19],\n",
       " [1.18, 3.73, 6.22]]"
      ]
     },
     "execution_count": 25,
     "metadata": {},
     "output_type": "execute_result"
    }
   ],
   "source": [
    "pl_full_results"
   ]
  },
  {
   "cell_type": "code",
   "execution_count": null,
   "metadata": {},
   "outputs": [],
   "source": [
    "#uk_df_model_op = pd.DataFrame(uk_full_results)"
   ]
  },
  {
   "cell_type": "code",
   "execution_count": null,
   "metadata": {},
   "outputs": [],
   "source": [
    "#us_df_model_op = pd.read_csv('../../cleaned_data/us_df_model_op.csv', index_col = 0)"
   ]
  },
  {
   "cell_type": "code",
   "execution_count": null,
   "metadata": {},
   "outputs": [],
   "source": [
    "#us_df_model_op.columns = ([\"Average track previously liked\",\"Average artist previously liked\", \"Average similar artist liked\"])\n",
    "#us_df_model_op.loc[3]"
   ]
  },
  {
   "cell_type": "code",
   "execution_count": null,
   "metadata": {},
   "outputs": [],
   "source": []
  },
  {
   "cell_type": "code",
   "execution_count": null,
   "metadata": {},
   "outputs": [],
   "source": []
  }
 ],
 "metadata": {
  "kernelspec": {
   "display_name": "Python 3 (ipykernel)",
   "language": "python",
   "name": "python3"
  },
  "language_info": {
   "codemirror_mode": {
    "name": "ipython",
    "version": 3
   },
   "file_extension": ".py",
   "mimetype": "text/x-python",
   "name": "python",
   "nbconvert_exporter": "python",
   "pygments_lexer": "ipython3",
   "version": "3.8.3"
  }
 },
 "nbformat": 4,
 "nbformat_minor": 4
}
