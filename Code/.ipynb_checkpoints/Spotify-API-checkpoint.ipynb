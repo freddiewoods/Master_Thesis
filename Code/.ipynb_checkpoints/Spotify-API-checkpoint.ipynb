{
 "cells": [
  {
   "cell_type": "code",
   "execution_count": 2,
   "metadata": {},
   "outputs": [],
   "source": [
    "import spotipy\n",
    "from spotipy.oauth2 import SpotifyClientCredentials\n",
    "import pandas as pd"
   ]
  },
  {
   "cell_type": "code",
   "execution_count": 7,
   "metadata": {},
   "outputs": [],
   "source": [
    "cid =\"f819c567a61446968b9741eefca13a3d\" \n",
    "secret = \"18a418663f664e6c94e546f8a21a7e1f\"\n",
    "\n",
    "#Authentication - without user\n",
    "client_credentials_manager = SpotifyClientCredentials(client_id=cid, client_secret=secret)\n",
    "spotify = spotipy.Spotify(client_credentials_manager = client_credentials_manager)"
   ]
  },
  {
   "cell_type": "code",
   "execution_count": 8,
   "metadata": {},
   "outputs": [
    {
     "name": "stdout",
     "output_type": "stream",
     "text": [
      "Young Heart\n",
      "Beautiful Lies\n",
      "Beautiful Lies\n",
      "Beautiful Lies (Deluxe)\n",
      "Beautiful Lies (Deluxe)\n",
      "Fire Within\n",
      "Fire Within\n",
      "Fire Within (Deluxe)\n",
      "Fire Within (Deluxe)\n",
      "Fire Within (Deluxe)\n",
      "Live in London\n",
      "Birdy\n",
      "Birdy\n",
      "Birdy\n",
      "Birdy\n",
      "Birdy (Deluxe Version)\n"
     ]
    }
   ],
   "source": [
    "birdy_uri = 'spotify:artist:2WX2uTcsvV5OnS0inACecP'\n",
    "def find_artist_albums(artist_uri):\n",
    "    results = spotify.artist_albums(artist_uri, album_type='album')\n",
    "    albums = results['items']\n",
    "    while results['next']:\n",
    "        results = spotify.next(results)\n",
    "        albums.extend(results['items'])\n",
    "    return(albums)\n",
    "\n",
    "for album in find_artist_albums(birdy_uri):\n",
    "    print(album['name'])"
   ]
  },
  {
   "cell_type": "code",
   "execution_count": 45,
   "metadata": {},
   "outputs": [
    {
     "name": "stdout",
     "output_type": "stream",
     "text": [
      "benconstable 30:30\n",
      "31yub6mcpdkdwsk6ojkjzyvccz4m 30:30\n",
      "_kmistry_ 30:30\n",
      "luke_mcmahon73 30:30\n",
      "jrhcraft 30:30\n"
     ]
    }
   ],
   "source": [
    "def get_user_playlists(user_uri):\n",
    "    results = spotify.user_playlists(user_uri, limit = 10)\n",
    "    playlists = results['items']\n",
    "    for playlist in playlists:\n",
    "        if \"30:30\" in playlist['name'] and user_uri == playlist['owner']['id']:\n",
    "            #tracks = (playlist['tracks'])\n",
    "            #print(tracks)\n",
    "            print(user_uri, playlist['name'])\n",
    "    return(playlists)\n",
    "\n",
    "ben_uri = 'benconstable'\n",
    "\n",
    "house_userids = ['benconstable', '31yub6mcpdkdwsk6ojkjzyvccz4m','aayush00shah', 'ravi.gohel', '_kmistry_', 'luke_mcmahon73','jrhcraft']\n",
    "for idd in house_userids:\n",
    "    get_user_playlists(idd)\n",
    "        #print(print(playlist['name']))"
   ]
  },
  {
   "cell_type": "code",
   "execution_count": 31,
   "metadata": {},
   "outputs": [],
   "source": [
    "def playlist_features(playlist, df, sp):\n",
    "\n",
    "    playlist_link = playlist\n",
    "    playlist_URI = playlist_link.split(\"/\")[-1].split(\"?\")[0]\n",
    "    track_uris = [x[\"track\"][\"uri\"] for x in sp.playlist_tracks(playlist_URI)[\"items\"]]\n",
    "    for track in sp.playlist_tracks(playlist_URI)[\"items\"]:\n",
    "        #URI\n",
    "        track_uri = track[\"track\"][\"uri\"]\n",
    "        \n",
    "        df.append(sp.audio_features(track_uri)[0], ignore_index=True)\n",
    "\n",
    "        #Track name\n",
    "        track_name = track[\"track\"][\"name\"]\n",
    "\n",
    "        ##Main Artist\n",
    "        #artist_uri = track[\"track\"][\"artists\"][0][\"uri\"]\n",
    "        #artist_info = sp.artist(artist_uri)\n",
    "\n",
    "        ##Name, popularity, genre\n",
    "        #artist_name = track[\"track\"][\"artists\"][0][\"name\"]\n",
    "        #artist_pop = artist_info[\"popularity\"]\n",
    "        #artist_genres = artist_info[\"genres\"]\n",
    "\n",
    "       # #Album\n",
    "        #album = track[\"track\"][\"album\"][\"name\"]\n",
    "\n",
    "        #Popularity of the track\n",
    "        track_pop = track[\"track\"][\"popularity\"]\n",
    "    return(df)   \n",
    "    #print(sp.audio_features(track_uri)[0])\n",
    "track_features = pd.DataFrame(columns = sp.audio_features(track_uri)[0].keys())\n",
    "track_features = playlist_features(\"https://open.spotify.com/playlist/37i9dQZF1DX3LyU0mhfqgP\", track_features, sp)"
   ]
  },
  {
   "cell_type": "code",
   "execution_count": 30,
   "metadata": {},
   "outputs": [
    {
     "data": {
      "text/html": [
       "<div>\n",
       "<style scoped>\n",
       "    .dataframe tbody tr th:only-of-type {\n",
       "        vertical-align: middle;\n",
       "    }\n",
       "\n",
       "    .dataframe tbody tr th {\n",
       "        vertical-align: top;\n",
       "    }\n",
       "\n",
       "    .dataframe thead th {\n",
       "        text-align: right;\n",
       "    }\n",
       "</style>\n",
       "<table border=\"1\" class=\"dataframe\">\n",
       "  <thead>\n",
       "    <tr style=\"text-align: right;\">\n",
       "      <th></th>\n",
       "      <th>danceability</th>\n",
       "      <th>energy</th>\n",
       "      <th>key</th>\n",
       "      <th>loudness</th>\n",
       "      <th>mode</th>\n",
       "      <th>speechiness</th>\n",
       "      <th>acousticness</th>\n",
       "      <th>instrumentalness</th>\n",
       "      <th>liveness</th>\n",
       "      <th>valence</th>\n",
       "      <th>tempo</th>\n",
       "      <th>type</th>\n",
       "      <th>id</th>\n",
       "      <th>uri</th>\n",
       "      <th>track_href</th>\n",
       "      <th>analysis_url</th>\n",
       "      <th>duration_ms</th>\n",
       "      <th>time_signature</th>\n",
       "    </tr>\n",
       "  </thead>\n",
       "  <tbody>\n",
       "  </tbody>\n",
       "</table>\n",
       "</div>"
      ],
      "text/plain": [
       "Empty DataFrame\n",
       "Columns: [danceability, energy, key, loudness, mode, speechiness, acousticness, instrumentalness, liveness, valence, tempo, type, id, uri, track_href, analysis_url, duration_ms, time_signature]\n",
       "Index: []"
      ]
     },
     "execution_count": 30,
     "metadata": {},
     "output_type": "execute_result"
    }
   ],
   "source": [
    "track_features"
   ]
  },
  {
   "cell_type": "code",
   "execution_count": 9,
   "metadata": {},
   "outputs": [],
   "source": [
    "def prompt_for_user_playlist(self, username):\n",
    "        \"\"\"\n",
    "        An interactive method that will display user's playlists\n",
    "        and prompt to make a selection.\n",
    "\n",
    "        Parameters\n",
    "        ----------\n",
    "        username: `str`\n",
    "            Spotfiy username.\n",
    "\n",
    "        Returns\n",
    "        -------\n",
    "        spotify_uri: `str`\n",
    "            Spotify URI for the selected playlist.\n",
    "        \"\"\"\n",
    "        playlists = self.fetch_user_playlist_urls(username)\n",
    "        for i, playlist in enumerate(playlists, 1):\n",
    "            playlist_details = \"{0}. {1:<30}  ({2} tracks)\".format(\n",
    "                i, playlist[\"name\"], playlist[\"tracks\"][\"total\"]\n",
    "            )\n",
    "            print(playlist_details, file=sys.stderr)\n",
    "        print(\"\", file=sys.stderr)\n",
    "        playlist = spotdl.util.prompt_user_for_selection(playlists)\n",
    "        return playlist[\"external_urls\"][\"spotify\"] "
   ]
  },
  {
   "cell_type": "code",
   "execution_count": null,
   "metadata": {},
   "outputs": [],
   "source": [
    "https://open.spotify.com/artist/2m1l9MLSslzup4vvokKgvQ?si=MOoWoEQ8R_W2MGMXOr2CJw"
   ]
  }
 ],
 "metadata": {
  "kernelspec": {
   "display_name": "Python 3 (ipykernel)",
   "language": "python",
   "name": "python3"
  },
  "language_info": {
   "codemirror_mode": {
    "name": "ipython",
    "version": 3
   },
   "file_extension": ".py",
   "mimetype": "text/x-python",
   "name": "python",
   "nbconvert_exporter": "python",
   "pygments_lexer": "ipython3",
   "version": "3.8.3"
  }
 },
 "nbformat": 4,
 "nbformat_minor": 4
}
